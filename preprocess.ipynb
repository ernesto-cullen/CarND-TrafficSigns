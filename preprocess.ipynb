{
 "cells": [
  {
   "cell_type": "markdown",
   "metadata": {},
   "source": [
    "## Preprocessing"
   ]
  },
  {
   "cell_type": "markdown",
   "metadata": {},
   "source": [
    "Pre-processing the data: train augmentation, convert to grayscale"
   ]
  },
  {
   "cell_type": "code",
   "execution_count": 1,
   "metadata": {
    "collapsed": false
   },
   "outputs": [
    {
     "name": "stdout",
     "output_type": "stream",
     "text": [
      "reading ./traffic-signs-data/train.p\n",
      "Records: 34799\n",
      "reading ./traffic-signs-data/valid.p\n",
      "Records: 4410\n",
      "reading ./traffic-signs-data/test.p\n",
      "Records: 12630\n"
     ]
    }
   ],
   "source": [
    "import pickle\n",
    "import numpy as np\n",
    "from scipy import ndimage\n",
    "from PIL import Image\n",
    "\n",
    "\n",
    "def process_pickle(origin, dest, rotate=False, gray=True):\n",
    "    print(\"reading %s\" % origin)\n",
    "    with open(origin, mode='rb') as f:\n",
    "        contents = pickle.load(f)\n",
    "\n",
    "    features, labels = contents['features'], contents['labels']\n",
    "    print(\"Records: %d\" %len(features))\n",
    "\n",
    "    if gray:\n",
    "        print(\"converting inputs to grayscale\")\n",
    "        features = np.asarray([np.asarray(Image.fromarray(x).convert(mode='L')).reshape((32, 32, 1)) for x in features])\n",
    "\n",
    "    if rotate:\n",
    "        # train set augmentation: create new images rotating the originals\n",
    "        print(\"adding rotated versions: +15 deg\")\n",
    "        features_aug1 = np.asarray(\n",
    "            [ndimage.rotate(x.squeeze(), 15, reshape=False).reshape(32, 32, 1) for x in features])\n",
    "        print(\"adding rotated versions: -10 deg\")\n",
    "        features_aug2 = np.asarray(\n",
    "            [ndimage.rotate(x.squeeze(), -10, reshape=False).reshape(32, 32, 1) for x in features])\n",
    "\n",
    "        features = np.concatenate((features, features_aug1, features_aug2))\n",
    "        labels = np.resize(contents['labels'], len(features))\n",
    "\n",
    "    print(\"saving to %s\" %dest)\n",
    "    with open(dest, mode='wb') as f:\n",
    "        pickle.dump({'features': features, 'labels': labels}, f)\n",
    "\n",
    "process_pickle(\"./traffic-signs-data/train.p\", \"./traffic-signs-data/train_preproc.p\", rotate=True, gray=True)\n",
    "process_pickle(\"./traffic-signs-data/valid.p\", \"./traffic-signs-data/valid_preproc.p\", rotate=False, gray=True)\n",
    "process_pickle(\"./traffic-signs-data/test.p\", \"./traffic-signs-data/test_preproc.p\", rotate=False, gray=True)\n"
   ]
  }
 ],
 "metadata": {
  "kernelspec": {
   "display_name": "Python 3",
   "language": "python",
   "name": "python3"
  },
  "language_info": {
   "codemirror_mode": {
    "name": "ipython",
    "version": 3
   },
   "file_extension": ".py",
   "mimetype": "text/x-python",
   "name": "python",
   "nbconvert_exporter": "python",
   "pygments_lexer": "ipython3",
   "version": "3.5.2"
  }
 },
 "nbformat": 4,
 "nbformat_minor": 2
}
