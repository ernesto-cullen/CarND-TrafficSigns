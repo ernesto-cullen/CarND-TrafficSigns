{
 "cells": [
  {
   "cell_type": "markdown",
   "metadata": {},
   "source": [
    "## Display a sample image from training set along with its grayscale and rotated variations"
   ]
  },
  {
   "cell_type": "code",
   "execution_count": 1,
   "metadata": {
    "collapsed": true
   },
   "outputs": [],
   "source": [
    "import pickle\n",
    "from PIL import Image\n",
    "import numpy as np\n",
    "import matplotlib.pyplot as plt\n",
    "import random\n",
    "from scipy import misc\n",
    "from sklearn.utils import shuffle"
   ]
  },
  {
   "cell_type": "code",
   "execution_count": 2,
   "metadata": {
    "collapsed": true
   },
   "outputs": [],
   "source": [
    "# general-purpose functions\n",
    "%matplotlib inline\n",
    "\n",
    "def display_image(img, label):\n",
    "    # visualize an image and its label\n",
    "    if len(img.shape) > 2:\n",
    "        img = img.squeeze()\n",
    "    plt.figure(figsize=(1, 1))\n",
    "    plt.imshow(img, cmap='gray')\n",
    "    #plt.show()\n",
    "    print(label)\n",
    "\n",
    "def display_image_vector(v, label):\n",
    "    rows = 1\n",
    "    cols = len(v)\n",
    "    fig = plt.figure(figsize=(cols, rows))\n",
    "    print(label)\n",
    "    for l in range(rows):\n",
    "        for i in range(1, cols + 1):\n",
    "            fig.add_subplot(rows, cols, i + l * cols)\n",
    "            plt.axis('off')\n",
    "            plt.imshow(v[i-1].squeeze())\n",
    "    #plt.show()\n"
   ]
  },
  {
   "cell_type": "code",
   "execution_count": 3,
   "metadata": {
    "collapsed": true
   },
   "outputs": [],
   "source": [
    "train_file = \"./traffic-signs-data/train.p\"\n",
    "train_file_preproc = \"./traffic-signs-data/train_preproc.p\"\n",
    "with open(train_file, mode='rb') as f:\n",
    "    train = pickle.load(f)\n",
    "with open(train_file_preproc, mode='rb') as f:\n",
    "    train_preproc = pickle.load(f)\n"
   ]
  },
  {
   "cell_type": "code",
   "execution_count": 21,
   "metadata": {
    "collapsed": false
   },
   "outputs": [
    {
     "name": "stdout",
     "output_type": "stream",
     "text": [
      "Train image #12591\n"
     ]
    },
    {
     "data": {
      "image/png": "[encoded data removed]",
      "text/plain": [
       "<matplotlib.figure.Figure at 0x189445da668>"
      ]
     },
     "metadata": {},
     "output_type": "display_data"
    }
   ],
   "source": [
    "index = random.randint(0, len(train['features']))\n",
    "v = [train['features'][index], \n",
    "     train_preproc['features'][index], \n",
    "     train_preproc['features'][index+len(train)],\n",
    "     train_preproc['features'][index+(2*len(train))]]\n",
    "display_image_vector(v,\"Train image #%d\" %index)"
   ]
  },
  {
   "cell_type": "code",
   "execution_count": null,
   "metadata": {
    "collapsed": true
   },
   "outputs": [],
   "source": []
  }
 ],
 "metadata": {
  "kernelspec": {
   "display_name": "Python 3",
   "language": "python",
   "name": "python3"
  },
  "language_info": {
   "codemirror_mode": {
    "name": "ipython",
    "version": 3
   },
   "file_extension": ".py",
   "mimetype": "text/x-python",
   "name": "python",
   "nbconvert_exporter": "python",
   "pygments_lexer": "ipython3",
   "version": "3.5.2"
  }
 },
 "nbformat": 4,
 "nbformat_minor": 2
}
